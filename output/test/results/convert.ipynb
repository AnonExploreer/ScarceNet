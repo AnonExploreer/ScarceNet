{
 "cells": [
  {
   "cell_type": "code",
   "execution_count": 11,
   "metadata": {},
   "outputs": [],
   "source": [
    "import json"
   ]
  },
  {
   "cell_type": "code",
   "execution_count": 12,
   "metadata": {},
   "outputs": [
    {
     "data": {
      "text/plain": [
       "22450"
      ]
     },
     "execution_count": 12,
     "metadata": {},
     "output_type": "execute_result"
    }
   ],
   "source": [
    "json_file = \"keypoints_val_results_0.json\"\n",
    "with open(json_file) as f:\n",
    "    data = json.load(f)\n",
    "len(data)"
   ]
  },
  {
   "cell_type": "code",
   "execution_count": 13,
   "metadata": {},
   "outputs": [],
   "source": [
    "json_file1 = \"/home/shanchuan/ScarceNet/idx2id.json\"\n",
    "with open(json_file1) as f:\n",
    "    data1 = json.load(f)"
   ]
  },
  {
   "cell_type": "code",
   "execution_count": null,
   "metadata": {},
   "outputs": [],
   "source": []
  },
  {
   "cell_type": "code",
   "execution_count": 21,
   "metadata": {},
   "outputs": [],
   "source": [
    "import numpy as np\n",
    "pseudo_kpts = {}\n",
    "for item in data:\n",
    "    id = item[\"image_id\"]\n",
    "    kpt = item[\"keypoints\"]\n",
    "    \n",
    "    kpt = np.array(kpt)\n",
    "    kpt = kpt.reshape(-1,3)\n",
    "    pseudo_kpts[data1[str(id)]] = kpt\n",
    "np.save('pseudo_labels_train.npy'.format(5),\n",
    "                            pseudo_kpts)"
   ]
  },
  {
   "cell_type": "code",
   "execution_count": 22,
   "metadata": {},
   "outputs": [
    {
     "data": {
      "text/plain": [
       "array([[1.18266797e+03, 2.09082031e+02, 4.68332171e-01],\n",
       "       [1.25673047e+03, 2.12167969e+02, 3.43543559e-01],\n",
       "       [1.25981641e+03, 2.15253906e+02, 8.46958756e-01],\n",
       "       [1.26907422e+03, 2.02910156e+02, 6.10975742e-01],\n",
       "       [1.25364453e+03, 2.98574219e+02, 5.58569908e-01],\n",
       "       [1.21352734e+03, 2.95488281e+02, 4.13238525e-01],\n",
       "       [1.26598828e+03, 3.01660156e+02, 4.80461478e-01],\n",
       "       [1.24130078e+03, 3.17089844e+02, 6.26181602e-01],\n",
       "       [1.23821484e+03, 3.20175781e+02, 5.99167347e-01]])"
      ]
     },
     "execution_count": 22,
     "metadata": {},
     "output_type": "execute_result"
    }
   ],
   "source": [
    "pseudo_kpts[588]"
   ]
  },
  {
   "cell_type": "code",
   "execution_count": 9,
   "metadata": {},
   "outputs": [
    {
     "data": {
      "text/plain": [
       "22450"
      ]
     },
     "execution_count": 9,
     "metadata": {},
     "output_type": "execute_result"
    }
   ],
   "source": [
    "len(pseudo_kpts)"
   ]
  }
 ],
 "metadata": {
  "kernelspec": {
   "display_name": "cskt",
   "language": "python",
   "name": "python3"
  },
  "language_info": {
   "codemirror_mode": {
    "name": "ipython",
    "version": 3
   },
   "file_extension": ".py",
   "mimetype": "text/x-python",
   "name": "python",
   "nbconvert_exporter": "python",
   "pygments_lexer": "ipython3",
   "version": "3.7.16"
  },
  "orig_nbformat": 4
 },
 "nbformat": 4,
 "nbformat_minor": 2
}
